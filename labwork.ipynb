{
  "nbformat": 4,
  "nbformat_minor": 0,
  "metadata": {
    "colab": {
      "provenance": [],
      "authorship_tag": "ABX9TyM90XYYbnAbqItaVh9A4Hqe",
      "include_colab_link": true
    },
    "kernelspec": {
      "name": "python3",
      "display_name": "Python 3"
    },
    "language_info": {
      "name": "python"
    }
  },
  "cells": [
    {
      "cell_type": "markdown",
      "metadata": {
        "id": "view-in-github",
        "colab_type": "text"
      },
      "source": [
        "<a href=\"https://colab.research.google.com/github/Eldrich46/Eldrich46/blob/main/labwork.ipynb\" target=\"_parent\"><img src=\"https://colab.research.google.com/assets/colab-badge.svg\" alt=\"Open In Colab\"/></a>"
      ]
    },
    {
      "cell_type": "code",
      "execution_count": null,
      "metadata": {
        "id": "F48X7d-IPNwH"
      },
      "outputs": [],
      "source": [
        "s = \"=\" * 5"
      ]
    },
    {
      "cell_type": "code",
      "source": [
        "print(s)"
      ],
      "metadata": {
        "colab": {
          "base_uri": "https://localhost:8080/"
        },
        "id": "NPJumZ2FTYjU",
        "outputId": "ad8599b0-21fe-45e3-d8e1-45b591d6aadc"
      },
      "execution_count": null,
      "outputs": [
        {
          "output_type": "stream",
          "name": "stdout",
          "text": [
            "=====\n"
          ]
        }
      ]
    },
    {
      "cell_type": "code",
      "source": [
        "s *= 10\n",
        "print(s)"
      ],
      "metadata": {
        "colab": {
          "base_uri": "https://localhost:8080/"
        },
        "id": "lIbG5N8LTbiU",
        "outputId": "eae1967c-f152-4eb0-d8ce-f807a8d5b23f"
      },
      "execution_count": null,
      "outputs": [
        {
          "output_type": "stream",
          "name": "stdout",
          "text": [
            "==================================================\n"
          ]
        }
      ]
    },
    {
      "cell_type": "code",
      "source": [
        "treatises =[\"Arithmetic\",\"Conics\",\"Elements\"]\n",
        "\" \".join(treatises)"
      ],
      "metadata": {
        "colab": {
          "base_uri": "https://localhost:8080/",
          "height": 35
        },
        "id": "9DVJrDZuTid0",
        "outputId": "a2d1af8f-8488-4ee4-98e5-cb3679ec887c"
      },
      "execution_count": null,
      "outputs": [
        {
          "output_type": "execute_result",
          "data": {
            "text/plain": [
              "'Arithmetic Conics Elements'"
            ],
            "application/vnd.google.colaboratory.intrinsic+json": {
              "type": "string"
            }
          },
          "metadata": {},
          "execution_count": 4
        }
      ]
    },
    {
      "cell_type": "code",
      "source": [
        "\"-<>-\".join(treatises)"
      ],
      "metadata": {
        "colab": {
          "base_uri": "https://localhost:8080/",
          "height": 35
        },
        "id": "l5xsF7qrVl5D",
        "outputId": "45d9144c-822d-4845-bc61-89de2f6aa4c0"
      },
      "execution_count": null,
      "outputs": [
        {
          "output_type": "execute_result",
          "data": {
            "text/plain": [
              "'Arithmetic-<>-Conics-<>-Elements'"
            ],
            "application/vnd.google.colaboratory.intrinsic+json": {
              "type": "string"
            }
          },
          "metadata": {},
          "execution_count": 5
        }
      ]
    },
    {
      "cell_type": "code",
      "source": [
        "\"\".join(treatises)"
      ],
      "metadata": {
        "colab": {
          "base_uri": "https://localhost:8080/",
          "height": 35
        },
        "id": "Opolxu4jWDxj",
        "outputId": "563b69ce-7fcd-4927-f935-4eeb443ec1d8"
      },
      "execution_count": null,
      "outputs": [
        {
          "output_type": "execute_result",
          "data": {
            "text/plain": [
              "'ArithmeticConicsElements'"
            ],
            "application/vnd.google.colaboratory.intrinsic+json": {
              "type": "string"
            }
          },
          "metadata": {},
          "execution_count": 6
        }
      ]
    },
    {
      "cell_type": "code",
      "source": [
        "x =\"three\"\n",
        "s =\"{0} {1} {2}\"\n",
        "s =s.format(\"The\", x , \"tops\")\n",
        "s"
      ],
      "metadata": {
        "colab": {
          "base_uri": "https://localhost:8080/",
          "height": 35
        },
        "id": "Y7ogkIDQWSVD",
        "outputId": "db48773d-30a5-4d22-c385-e569711f1d42"
      },
      "execution_count": null,
      "outputs": [
        {
          "output_type": "execute_result",
          "data": {
            "text/plain": [
              "'The three tops'"
            ],
            "application/vnd.google.colaboratory.intrinsic+json": {
              "type": "string"
            }
          },
          "metadata": {},
          "execution_count": 13
        }
      ]
    },
    {
      "cell_type": "code",
      "source": [
        "\"{who} turned {age} this year\".format(who=\"She\",age=88)"
      ],
      "metadata": {
        "colab": {
          "base_uri": "https://localhost:8080/",
          "height": 35
        },
        "id": "Ftb5jd3RXjqC",
        "outputId": "e6e30973-e92c-4140-85ad-fa5501a177b4"
      },
      "execution_count": null,
      "outputs": [
        {
          "output_type": "execute_result",
          "data": {
            "text/plain": [
              "'She turned 88 this year'"
            ],
            "application/vnd.google.colaboratory.intrinsic+json": {
              "type": "string"
            }
          },
          "metadata": {},
          "execution_count": 14
        }
      ]
    },
    {
      "cell_type": "code",
      "source": [
        "\"The {who} war{0} last week\".format(12, who=\"boy\")"
      ],
      "metadata": {
        "colab": {
          "base_uri": "https://localhost:8080/",
          "height": 35
        },
        "id": "yPkNwahrbgwS",
        "outputId": "2eb19435-7958-480a-b453-6c9498135a1c"
      },
      "execution_count": null,
      "outputs": [
        {
          "output_type": "execute_result",
          "data": {
            "text/plain": [
              "'The boy war12 last week'"
            ],
            "application/vnd.google.colaboratory.intrinsic+json": {
              "type": "string"
            }
          },
          "metadata": {},
          "execution_count": 15
        }
      ]
    },
    {
      "cell_type": "code",
      "source": [
        "stock =[\"paper\",\"envelopes\",\"notepads\",\"pens\",\"paper\",\"clips\"]"
      ],
      "metadata": {
        "id": "VIeRfynVb8Ch"
      },
      "execution_count": null,
      "outputs": []
    },
    {
      "cell_type": "code",
      "source": [
        "\"We have {0[1]} and {0[2]} in stock\".format(stock)"
      ],
      "metadata": {
        "colab": {
          "base_uri": "https://localhost:8080/",
          "height": 35
        },
        "id": "grgCR9Ywexlg",
        "outputId": "e15cd5fc-b5b0-442c-e24f-8bbbea9e6a6a"
      },
      "execution_count": null,
      "outputs": [
        {
          "output_type": "execute_result",
          "data": {
            "text/plain": [
              "'We have envelopes and notepads in stock'"
            ],
            "application/vnd.google.colaboratory.intrinsic+json": {
              "type": "string"
            }
          },
          "metadata": {},
          "execution_count": 17
        }
      ]
    },
    {
      "cell_type": "code",
      "source": [
        "d = dict (animal =\"elephant\", weight=12000)\n",
        "\"The {0[animal]} weight {0[weight]}kg\".format(d)"
      ],
      "metadata": {
        "colab": {
          "base_uri": "https://localhost:8080/",
          "height": 35
        },
        "id": "x2wNgL5ufRpA",
        "outputId": "b966df89-3e10-40ea-ee9f-4713f5986c8a"
      },
      "execution_count": null,
      "outputs": [
        {
          "output_type": "execute_result",
          "data": {
            "text/plain": [
              "'The elephant weight 12000kg'"
            ],
            "application/vnd.google.colaboratory.intrinsic+json": {
              "type": "string"
            }
          },
          "metadata": {},
          "execution_count": 18
        }
      ]
    },
    {
      "cell_type": "code",
      "source": [
        "import decimal\n",
        "decimal.Decimal(\"3.4084\")"
      ],
      "metadata": {
        "colab": {
          "base_uri": "https://localhost:8080/"
        },
        "id": "QnjJbY4af5CA",
        "outputId": "58a5e2a9-ca6b-4876-edff-ab32fd57ad5b"
      },
      "execution_count": null,
      "outputs": [
        {
          "output_type": "execute_result",
          "data": {
            "text/plain": [
              "Decimal('3.4084')"
            ]
          },
          "metadata": {},
          "execution_count": 20
        }
      ]
    },
    {
      "cell_type": "code",
      "source": [
        "print(decimal.Decimal(\"3.4084\"))"
      ],
      "metadata": {
        "colab": {
          "base_uri": "https://localhost:8080/"
        },
        "id": "bW4SW-76gAdw",
        "outputId": "8e95db26-442f-4bd3-c6b0-8b63352794c7"
      },
      "execution_count": null,
      "outputs": [
        {
          "output_type": "stream",
          "name": "stdout",
          "text": [
            "3.4084\n"
          ]
        }
      ]
    },
    {
      "cell_type": "code",
      "source": [
        "def is_palindrome(s):\n",
        "  s = s.replace(\"\",\"\").lower()\n",
        "  return s == s[::-1]\n",
        "\n",
        "x =\"three\"\n",
        "s =\"{0} {1} {2}\"\n",
        "s =s.format(\"The\", x , \"tops\")\n",
        "s\n",
        "\n",
        "print(is_palindrome(s))"
      ],
      "metadata": {
        "id": "SDQkHZazhLKv",
        "colab": {
          "base_uri": "https://localhost:8080/"
        },
        "outputId": "f533aa44-5019-4a09-f610-1041776473f1"
      },
      "execution_count": 22,
      "outputs": [
        {
          "output_type": "stream",
          "name": "stdout",
          "text": [
            "False\n"
          ]
        }
      ]
    },
    {
      "cell_type": "code",
      "source": [
        "def is_palindrome(s):\n",
        "    s = s.replace(\" \", \"\").lower()\n",
        "    return s == s[::-1]\n",
        "\n",
        "def check_occurrence(sentence):\n",
        "    sentence = sentence.lower()\n",
        "    occurrence = sentence.count('th') + sentence.count('wh') + sentence.count('ho')\n",
        "    return occurrence\n",
        "\n",
        "input_sentence = input(\"Enter a sentence: \")\n",
        "\n",
        "if is_palindrome(input_sentence):\n",
        "    print(\"The input sentence is a palindrome.\")\n",
        "else:\n",
        "    print(\"The input sentence is not a palindrome.\")\n",
        "\n",
        "occurrence_count = check_occurrence(input_sentence)\n",
        "print(\"Occurrences of 'th', 'wh', or 'ho':\", occurrence_count)"
      ],
      "metadata": {
        "colab": {
          "base_uri": "https://localhost:8080/"
        },
        "id": "dvnydOUHpLWc",
        "outputId": "44fb294f-db80-40e5-ae81-d7786d0f3bf1"
      },
      "execution_count": 31,
      "outputs": [
        {
          "output_type": "stream",
          "name": "stdout",
          "text": [
            "Enter a sentence: who is the hoe here?\n",
            "The input sentence is not a palindrome.\n",
            "Occurrences of 'th', 'wh', or 'ho': 4\n"
          ]
        }
      ]
    },
    {
      "cell_type": "code",
      "source": [],
      "metadata": {
        "id": "c6L-TWQvrrmq"
      },
      "execution_count": 27,
      "outputs": []
    }
  ]
}